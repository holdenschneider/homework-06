{
 "cells": [
  {
   "cell_type": "markdown",
   "metadata": {},
   "source": [
    "# Homework 6\n",
    "\n",
    "The National Health and Nutrition Examination Survey (NHANES) is a\n",
    "cross sectional observational study run every 2-3 years by the\n",
    "United States Centers for Disease Control (CDC).  It collects\n",
    "extensive demographic and health-related data on a representative\n",
    "sample of the US population. We will work with a subset of the possible measures that the NHANES survey collects on basic biometric features.\n",
    "\n",
    "\n",
    "First we import the libraries that we will be using."
   ]
  },
  {
   "cell_type": "code",
   "execution_count": 1,
   "metadata": {},
   "outputs": [],
   "source": [
    "import pandas as pd\n",
    "import numpy as np\n",
    "import seaborn as sb\n",
    "import matplotlib.pyplot as plt"
   ]
  },
  {
   "cell_type": "markdown",
   "metadata": {},
   "source": [
    "Now we load the NHANES data from a file.\n"
   ]
  },
  {
   "cell_type": "code",
   "execution_count": 2,
   "metadata": {},
   "outputs": [],
   "source": [
    "df = pd.read_csv(\"./nhanes.csv.gz\")"
   ]
  },
  {
   "cell_type": "markdown",
   "metadata": {},
   "source": [
    "Many biological processes behave differently during development\n",
    "compared to in adulthood.  For this analysis, we will focus on\n",
    "people of age 18 or greater (RIDAGEYR contains each subject's age in\n",
    "years)."
   ]
  },
  {
   "cell_type": "code",
   "execution_count": 3,
   "metadata": {},
   "outputs": [],
   "source": [
    "df = df.loc[df[\"RIDAGEYR\"] >= 18]"
   ]
  },
  {
   "cell_type": "markdown",
   "metadata": {},
   "source": [
    "We want to great the gender variable as categorical, so we just indicate that here:"
   ]
  },
  {
   "cell_type": "code",
   "execution_count": 4,
   "metadata": {},
   "outputs": [],
   "source": [
    "df[\"RIAGENDR\"] = df[\"RIAGENDR\"].replace([1.0, 2.0], [\"Male\",\"Female\"]).astype(\"category\")"
   ]
  },
  {
   "cell_type": "markdown",
   "metadata": {},
   "source": [
    "Here are the columns from this data set:"
   ]
  },
  {
   "cell_type": "code",
   "execution_count": 5,
   "metadata": {},
   "outputs": [
    {
     "data": {
      "text/plain": [
       "Index(['SEQN', 'RIDAGEYR', 'RIAGENDR', 'BMXWT', 'BMXHT', 'BMXBMI', 'BPXSY1',\n",
       "       'BPXSY2', 'BPXSY3'],\n",
       "      dtype='object')"
      ]
     },
     "execution_count": 5,
     "metadata": {},
     "output_type": "execute_result"
    }
   ],
   "source": [
    "df.columns"
   ]
  },
  {
   "cell_type": "markdown",
   "metadata": {},
   "source": [
    "## Question 1\n",
    "\n",
    "### Question 1.1\n",
    "\n",
    "The `BPXSY1`, `BPXSY2`, and `BXSPY3` columns in the data are repeated systolic blood pressure measurements (the \"120\" in when your doctor says your blood pressure is \"120/80\"). Numbers higher than 120 indicate various degrees of \"hypertension\" (i.e., high blood pressure).\n",
    "\n",
    "Create a new column `BPXSY`  in the `df` table that is mean of the three measurements for each person (i.e., add the three values together and divide by 3 for each person).\n"
   ]
  },
  {
   "cell_type": "code",
   "execution_count": 7,
   "metadata": {},
   "outputs": [],
   "source": [
    "df['BPXSY'] = df[['BPXSY1', 'BPXSY2', 'BPXSY3']].mean"
   ]
  },
  {
   "cell_type": "markdown",
   "metadata": {},
   "source": [
    "Plot the marginal distribution of this measurement."
   ]
  },
  {
   "cell_type": "code",
   "execution_count": null,
   "metadata": {
    "vscode": {
     "languageId": "ruby"
    }
   },
   "outputs": [],
   "source": []
  },
  {
   "cell_type": "markdown",
   "metadata": {},
   "source": [
    "Comment on the **location**, **spread**, and **skew** in this plot. You only need to give broad descriptions (what is a typical value? where are most of the values? is there any skew?).\n"
   ]
  },
  {
   "cell_type": "markdown",
   "metadata": {},
   "source": []
  },
  {
   "cell_type": "markdown",
   "metadata": {},
   "source": [
    "\n",
    "### Question 1.2\n",
    "\n",
    "Create a plot that shows two boxplots that show the **conditional distribution** of `BPXSY` for the two genders (\"MALE\" and \"FEMALE\") in the `RIAGENDR` column."
   ]
  },
  {
   "cell_type": "code",
   "execution_count": null,
   "metadata": {},
   "outputs": [],
   "source": []
  },
  {
   "cell_type": "markdown",
   "metadata": {},
   "source": [
    "Based on this plot, would you say there is much of a difference between men and women on BPXSY? Justify your answer based on both location and spread observed in the plot.\n"
   ]
  },
  {
   "cell_type": "markdown",
   "metadata": {},
   "source": []
  },
  {
   "cell_type": "markdown",
   "metadata": {},
   "source": [
    "\n",
    "\n",
    "### Question 1.3\n",
    "\n",
    "Calculate the **effect size** of the difference between men and women on BPSXY. As a reminder, you will need to compute the **pooled standard deviation**:\n",
    "\n",
    "$$S_p = \\sqrt{\\frac{n_1 S_1^2 + n_2 S_2^2}{n_1 + n_1}}$$\n",
    "\n",
    "where $S_g^2$ is the variance of group $g$ and $n_g$ is the size of group $g$.\n",
    "\n",
    "Please note: the class notes suggest using `df.groupby(\"GROUP\").size()` to get the number of units in each group. Because of missing data issues, it turns out this is bad advice. A better strategy is focus on the variable of interest `x = df.groupby(\"GROUP\")[\"VAR\"]` and the `x.count()` to get the size of each group."
   ]
  },
  {
   "cell_type": "code",
   "execution_count": null,
   "metadata": {},
   "outputs": [],
   "source": []
  },
  {
   "cell_type": "markdown",
   "metadata": {},
   "source": [
    "Based on the following lists of effect sizes, how would you categorize the difference in BP between men and women?\n",
    "\n",
    "Effect size magnitude (ignore +/-)\n",
    "* Very small: 0 - 0.01\n",
    "* Small: 0.1 - 0.20\n",
    "* Medium: 0.2 - \t0.50\n",
    "* Large: 0.5 - \t0.80\n",
    "* Very large: 0.8 -\t1.20\n",
    "* Huge: 1.2 - \t2.0+\n"
   ]
  },
  {
   "cell_type": "markdown",
   "metadata": {},
   "source": []
  },
  {
   "cell_type": "markdown",
   "metadata": {},
   "source": [
    "\n",
    "\n",
    "## Question 2\n",
    "\n",
    "Let's investigate the relationship between body-mass-index (BMI) and blood pressure.\n",
    "\n",
    "### Question 2.1\n",
    "\n",
    "Make a `regplot` of these two measurements with \"BMXBMI\" on the x-axis. The `marker = '.'` option makes the plot a little cleaner and the `line_kws = {\"color\": \"orange\"}` makes the line easier to see."
   ]
  },
  {
   "cell_type": "code",
   "execution_count": null,
   "metadata": {},
   "outputs": [],
   "source": []
  },
  {
   "cell_type": "markdown",
   "metadata": {},
   "source": [
    "Given what you see in this plot, how would you categorize the **direction** of the relationship between these variables?\n",
    "\n"
   ]
  },
  {
   "cell_type": "markdown",
   "metadata": {},
   "source": []
  },
  {
   "cell_type": "markdown",
   "metadata": {},
   "source": [
    "\n",
    "\n",
    "### Question 2.2\n",
    "\n",
    "To get a better understanding of the relationship for these data compute **Z-scores** for both BMI and BP. Plot them again using a scatter plot (`marker = '.'`), also add vertical and horizontal lines at 0 using\n",
    "\n",
    "```\n",
    "plt.axhline(0, color = \"black\")\n",
    "plt.axvline(0, color = \"black\")\n",
    "```"
   ]
  },
  {
   "cell_type": "code",
   "execution_count": null,
   "metadata": {},
   "outputs": [],
   "source": []
  },
  {
   "cell_type": "markdown",
   "metadata": {},
   "source": [
    "Based on the number of observations in each quadrant, would you say that that more points are in the upper-left and lower-right or in the upper-left and lower-right quadrants?\n"
   ]
  },
  {
   "cell_type": "markdown",
   "metadata": {},
   "source": []
  },
  {
   "cell_type": "markdown",
   "metadata": {},
   "source": [
    "\n",
    "### Question 2.3\n",
    "\n",
    "Calculate the Pearson correlation/correlation coefficient for these two measures. You can use a built in method for DataFrames."
   ]
  },
  {
   "cell_type": "markdown",
   "metadata": {},
   "source": [
    "What does this value tell us? Is is consistent with the graphs in the previous two part? Why or why not?\n",
    "\n",
    "### Question 2.4\n",
    "\n",
    "We have observed that both BMI and blood pressure exhibit some right skew. Transform both using reciprocal, square root, and log;  and the compute the correlation matrix for  all combinations of both. For the strongest linear relationship, plot the two transformations and compute the correlation."
   ]
  },
  {
   "cell_type": "code",
   "execution_count": null,
   "metadata": {},
   "outputs": [],
   "source": []
  },
  {
   "cell_type": "markdown",
   "metadata": {},
   "source": [
    "## Question 3\n",
    "\n",
    "### Question 3.1\n",
    "\n",
    "Compute and save into a variable the correlation of `BMXBMI` and `BPXSY`.\n",
    "\n",
    "Compute and save into variables the means and standard deviations of these variables.\n",
    "\n",
    "Using these values compute the slope and intercept of the regression line that relates blood pressure and BMI. For this analysis, consider BMI as the \"X\" variable (sometimes called the independent variable) and blood pressure as the \"Y\" variable (sometimes called the dependent variable)."
   ]
  },
  {
   "cell_type": "code",
   "execution_count": null,
   "metadata": {},
   "outputs": [],
   "source": []
  },
  {
   "cell_type": "markdown",
   "metadata": {},
   "source": [
    "### Question 3.2\n",
    "\n",
    "Using the slope and intercept from the previous part, compute the following:\n",
    "\n",
    "- The average blood pressure for people with a BMI of 20.\n",
    "- The average blood pressure for people with a BMI of 30.\n",
    "- The difference in average blood pressures for people with BMI values of 18 and BMI values of 21."
   ]
  },
  {
   "cell_type": "code",
   "execution_count": null,
   "metadata": {},
   "outputs": [],
   "source": []
  },
  {
   "cell_type": "markdown",
   "metadata": {},
   "source": [
    "### Question 3.2\n",
    "\n",
    "Create a scatter plot of the data with the regression line overlayed. Do not use the `regplot` or `lmplot` functions. You may use `plt.axline` to add the regression line.\n"
   ]
  },
  {
   "cell_type": "code",
   "execution_count": null,
   "metadata": {},
   "outputs": [],
   "source": []
  },
  {
   "cell_type": "markdown",
   "metadata": {},
   "source": [
    "### Question 3.3\n",
    "\n",
    "Use the `statsmodels` library to fit a linear regression model to the data using the `sm.OLS` function. Print the summary of the model and verify that your calculations from the previous parts are correct."
   ]
  },
  {
   "cell_type": "code",
   "execution_count": null,
   "metadata": {},
   "outputs": [],
   "source": []
  }
 ],
 "metadata": {
  "kernelspec": {
   "display_name": "Python 3",
   "language": "python",
   "name": "python3"
  },
  "language_info": {
   "codemirror_mode": {
    "name": "ipython",
    "version": 3
   },
   "file_extension": ".py",
   "mimetype": "text/x-python",
   "name": "python",
   "nbconvert_exporter": "python",
   "pygments_lexer": "ipython3",
   "version": "3.12.1"
  }
 },
 "nbformat": 4,
 "nbformat_minor": 4
}
